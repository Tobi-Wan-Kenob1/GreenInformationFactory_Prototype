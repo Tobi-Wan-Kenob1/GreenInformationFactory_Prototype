{
 "cells": [
  {
   "cell_type": "code",
   "execution_count": 5,
   "id": "70ea272f-d16d-4d68-99c1-71565bf330bf",
   "metadata": {},
   "outputs": [],
   "source": [
    "import os, json, glob, requests\n",
    "from dotenv import load_dotenv\n",
    "from pathlib import Path"
   ]
  },
  {
   "cell_type": "markdown",
   "id": "dda92c18-2020-446d-b25a-7e719a549837",
   "metadata": {},
   "source": [
    "# Configure Endpoints & Token \n",
    "### (Toggle on Sandbox, to try and test)"
   ]
  },
  {
   "cell_type": "code",
   "execution_count": 16,
   "id": "715f5d83-eb89-4d06-917e-ee5f15bedbb2",
   "metadata": {
    "scrolled": true
   },
   "outputs": [
    {
     "name": "stdout",
     "output_type": "stream",
     "text": [
      "✅ Token loaded with length: 60\n"
     ]
    }
   ],
   "source": [
    "load_dotenv(\"../src/ZENODO_TOKEN.env\")\n",
    "\n",
    "USE_SANDBOX = True #True ist for testing, set to false for actual uploading\n",
    "BASE = \"https://sandbox.zenodo.org\" if USE_SANDBOX else \"https://zenodo.org\"\n",
    "API  = f\"{BASE}/api\"\n",
    "UI   = BASE\n",
    "\n",
    "TOKEN = os.getenv(\"ZENODO_TOKEN\")\n",
    "assert TOKEN, \"No ZENODO_TOKEN found. Put it in a .env file or set the env var.\"\n",
    "\n",
    "print(\"✅ Token loaded with length:\", len(TOKEN))\n",
    "\n",
    "HEADERS_JSON = {\"Content-Type\": \"application/json\",\n",
    "                \"Authorization\": f\"Bearer {TOKEN}\"}\n",
    "PARAMS = {\"access_token\": TOKEN}  # sometimes used for PUT uploads"
   ]
  },
  {
   "cell_type": "markdown",
   "id": "ef9bbf48-533a-4b72-886d-e6cb79121073",
   "metadata": {},
   "source": [
    "# Create the deposition on Zenodo"
   ]
  },
  {
   "cell_type": "code",
   "execution_count": 20,
   "id": "c8d671c2-77c2-452a-84d6-8c1bd0d09534",
   "metadata": {},
   "outputs": [],
   "source": [
    "import os, shutil, pathlib, subprocess\n",
    "\n",
    "root = pathlib.Path.cwd()  # project root if you launched Jupyter from there\n",
    "payload = root / \"release_payload\"\n",
    "payload.mkdir(exist_ok=True, parents=True)"
   ]
  },
  {
   "cell_type": "markdown",
   "id": "de558767-a046-4e78-a84e-3aaf314f9e7b",
   "metadata": {},
   "source": [
    "## Define what files to upload (Used and processed training data + model + plots)"
   ]
  },
  {
   "cell_type": "code",
   "execution_count": 21,
   "id": "288a6831-b43d-49d5-9efb-dc0294f58a43",
   "metadata": {},
   "outputs": [],
   "source": [
    "# Collect artifacts (adjust if some are optional)\n",
    "sources = [\n",
    "    root / \"../data/processed/Train/BioFairNet_Pilot1_Testrun_Train_in.csv\",\n",
    "    root / \"../data/processed/Train/BioFairNet_Pilot1_Testrun_Train_out.csv\",\n",
    "    root / \"../data/processed/Test/BioFairNet_Pilot1_Testrun_Test_in.csv\",\n",
    "    root / \"../data/processed/Test/BioFairNet_Pilot1_Testrun_Test_out.csv\",\n",
    "    root / \"../data/results/lr_evaluation.csv\",\n",
    "    root / \"../models/final_model.pkl\",              \n",
    "    root / \"../data/results/lr_evaluation.png\",       # optional\n",
    "]"
   ]
  },
  {
   "cell_type": "code",
   "execution_count": 22,
   "id": "d8ace23f-93c1-4bc8-8fa3-72e9b5e6b6ad",
   "metadata": {},
   "outputs": [
    {
     "name": "stdout",
     "output_type": "stream",
     "text": [
      "Payload contains:\n",
      "BioFairNet_Pilot1_Testrun_Test_out.csv\n",
      "BioFairNet_Pilot1_Testrun_Train_out.csv\n",
      "lr_evaluation.csv\n",
      "BioFairNet_Pilot1_Testrun_Train_in.csv\n",
      "BioFairNet_Pilot1_Testrun_Test_in.csv\n"
     ]
    }
   ],
   "source": [
    "for src in sources:\n",
    "    if src.exists():\n",
    "        shutil.copy2(src, payload / src.name)\n",
    "\n",
    "print(\"Payload contains:\")\n",
    "print(\"\\n\".join(p.name for p in payload.iterdir()))"
   ]
  },
  {
   "cell_type": "code",
   "execution_count": 23,
   "id": "6c8add7e-d8ac-4a39-b4ef-686ba3d31374",
   "metadata": {},
   "outputs": [
    {
     "name": "stdout",
     "output_type": "stream",
     "text": [
      "[main 4d777a4] Add Zenodo release payload\n",
      " Committer: Tobi-Wan-Kenob1 <097e80f6-6687-4e65-aab6-9abf7b887006@4146c987a9a6>\n",
      "Your name and email address were configured automatically based\n",
      "on your username and hostname. Please check that they are accurate.\n",
      "You can suppress this message by setting them explicitly:\n",
      "\n",
      "    git config --global user.name \"Your Name\"\n",
      "    git config --global user.email you@example.com\n",
      "\n",
      "After doing this, you may fix the identity used for this commit with:\n",
      "\n",
      "    git commit --amend --reset-author\n",
      "\n",
      " 5 files changed, 18458 insertions(+)\n",
      " create mode 100644 notebooks/release_payload/BioFairNet_Pilot1_Testrun_Test_in.csv\n",
      " create mode 100644 notebooks/release_payload/BioFairNet_Pilot1_Testrun_Test_out.csv\n",
      " create mode 100644 notebooks/release_payload/BioFairNet_Pilot1_Testrun_Train_in.csv\n",
      " create mode 100644 notebooks/release_payload/BioFairNet_Pilot1_Testrun_Train_out.csv\n",
      " create mode 100644 notebooks/release_payload/lr_evaluation.csv\n"
     ]
    },
    {
     "name": "stderr",
     "output_type": "stream",
     "text": [
      "git@github.com: Permission denied (publickey).\n",
      "fatal: Could not read from remote repository.\n",
      "\n",
      "Please make sure you have the correct access rights\n",
      "and the repository exists.\n"
     ]
    },
    {
     "ename": "CalledProcessError",
     "evalue": "Command '['git', 'push', 'origin', 'main']' returned non-zero exit status 128.",
     "output_type": "error",
     "traceback": [
      "\u001b[31m---------------------------------------------------------------------------\u001b[39m",
      "\u001b[31mCalledProcessError\u001b[39m                        Traceback (most recent call last)",
      "\u001b[36mCell\u001b[39m\u001b[36m \u001b[39m\u001b[32mIn[23]\u001b[39m\u001b[32m, line 3\u001b[39m\n\u001b[32m      1\u001b[39m subprocess.run([\u001b[33m\"\u001b[39m\u001b[33mgit\u001b[39m\u001b[33m\"\u001b[39m, \u001b[33m\"\u001b[39m\u001b[33madd\u001b[39m\u001b[33m\"\u001b[39m, \u001b[33m\"\u001b[39m\u001b[33m-f\u001b[39m\u001b[33m\"\u001b[39m, \u001b[33m\"\u001b[39m\u001b[33mrelease_payload\u001b[39m\u001b[33m\"\u001b[39m], check=\u001b[38;5;28;01mTrue\u001b[39;00m)\n\u001b[32m      2\u001b[39m subprocess.run([\u001b[33m\"\u001b[39m\u001b[33mgit\u001b[39m\u001b[33m\"\u001b[39m, \u001b[33m\"\u001b[39m\u001b[33mcommit\u001b[39m\u001b[33m\"\u001b[39m, \u001b[33m\"\u001b[39m\u001b[33m-m\u001b[39m\u001b[33m\"\u001b[39m, \u001b[33m\"\u001b[39m\u001b[33mAdd Zenodo release payload\u001b[39m\u001b[33m\"\u001b[39m], check=\u001b[38;5;28;01mTrue\u001b[39;00m)\n\u001b[32m----> \u001b[39m\u001b[32m3\u001b[39m \u001b[43msubprocess\u001b[49m\u001b[43m.\u001b[49m\u001b[43mrun\u001b[49m\u001b[43m(\u001b[49m\u001b[43m[\u001b[49m\u001b[33;43m\"\u001b[39;49m\u001b[33;43mgit\u001b[39;49m\u001b[33;43m\"\u001b[39;49m\u001b[43m,\u001b[49m\u001b[43m \u001b[49m\u001b[33;43m\"\u001b[39;49m\u001b[33;43mpush\u001b[39;49m\u001b[33;43m\"\u001b[39;49m\u001b[43m,\u001b[49m\u001b[43m \u001b[49m\u001b[33;43m\"\u001b[39;49m\u001b[33;43morigin\u001b[39;49m\u001b[33;43m\"\u001b[39;49m\u001b[43m,\u001b[49m\u001b[43m \u001b[49m\u001b[33;43m\"\u001b[39;49m\u001b[33;43mmain\u001b[39;49m\u001b[33;43m\"\u001b[39;49m\u001b[43m]\u001b[49m\u001b[43m,\u001b[49m\u001b[43m \u001b[49m\u001b[43mcheck\u001b[49m\u001b[43m=\u001b[49m\u001b[38;5;28;43;01mTrue\u001b[39;49;00m\u001b[43m)\u001b[49m\n",
      "\u001b[36mFile \u001b[39m\u001b[32m~/.conda/envs/greeninfo/lib/python3.11/subprocess.py:571\u001b[39m, in \u001b[36mrun\u001b[39m\u001b[34m(input, capture_output, timeout, check, *popenargs, **kwargs)\u001b[39m\n\u001b[32m    569\u001b[39m     retcode = process.poll()\n\u001b[32m    570\u001b[39m     \u001b[38;5;28;01mif\u001b[39;00m check \u001b[38;5;129;01mand\u001b[39;00m retcode:\n\u001b[32m--> \u001b[39m\u001b[32m571\u001b[39m         \u001b[38;5;28;01mraise\u001b[39;00m CalledProcessError(retcode, process.args,\n\u001b[32m    572\u001b[39m                                  output=stdout, stderr=stderr)\n\u001b[32m    573\u001b[39m \u001b[38;5;28;01mreturn\u001b[39;00m CompletedProcess(process.args, retcode, stdout, stderr)\n",
      "\u001b[31mCalledProcessError\u001b[39m: Command '['git', 'push', 'origin', 'main']' returned non-zero exit status 128."
     ]
    }
   ],
   "source": [
    "subprocess.run([\"git\", \"add\", \"-f\", \"release_payload\"], check=True)\n",
    "subprocess.run([\"git\", \"commit\", \"-m\", \"Add Zenodo release payload\"], check=True)\n",
    "subprocess.run([\"git\", \"push\", \"origin\", \"main\"], check=True)"
   ]
  },
  {
   "cell_type": "code",
   "execution_count": null,
   "id": "bb322193-bb58-45c7-a606-41bf0baf84e0",
   "metadata": {},
   "outputs": [],
   "source": []
  }
 ],
 "metadata": {
  "kernelspec": {
   "display_name": ".conda-greeninfo",
   "language": "python",
   "name": "conda-env-.conda-greeninfo-py"
  },
  "language_info": {
   "codemirror_mode": {
    "name": "ipython",
    "version": 3
   },
   "file_extension": ".py",
   "mimetype": "text/x-python",
   "name": "python",
   "nbconvert_exporter": "python",
   "pygments_lexer": "ipython3",
   "version": "3.11.13"
  }
 },
 "nbformat": 4,
 "nbformat_minor": 5
}
