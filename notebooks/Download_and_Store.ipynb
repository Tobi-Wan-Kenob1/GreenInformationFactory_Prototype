{
 "cells": [
  {
   "cell_type": "markdown",
   "id": "852f571d-7c7a-4f00-8c15-4e51fff92a4b",
   "metadata": {},
   "source": [
    "### Imports and Helpers"
   ]
  },
  {
   "cell_type": "code",
   "execution_count": 13,
   "id": "791aa0d3-eb97-4a71-8e28-a26b918d2f3a",
   "metadata": {},
   "outputs": [],
   "source": [
    "import json, shlex, subprocess, re\n",
    "from pathlib import Path\n",
    "\n",
    "def run(cmd, check=True):\n",
    "    \"\"\"Run a shell command with pretty print.\"\"\"\n",
    "    print(\"$\", cmd)\n",
    "    return subprocess.run(shlex.split(cmd), check=check)\n",
    "\n",
    "def find_repo_root(start: Path = None) -> Path:\n",
    "    p = start or Path.cwd()\n",
    "    for parent in [p, *p.resolve().parents]:\n",
    "        if (parent / \".git\").exists():\n",
    "            return parent\n",
    "    return Path.cwd()\n",
    "\n",
    "def slugify(s: str) -> str:\n",
    "    s = s.strip().lower()\n",
    "    s = re.sub(r\"[^a-z0-9]+\", \"-\", s)\n",
    "    s = re.sub(r\"-+\", \"-\", s).strip(\"-\")\n",
    "    return s[:60]\n",
    "\n",
    "def run_cmd(cmd, check=True):\n",
    "    \"\"\"Run a shell command with pretty print.\"\"\"\n",
    "    print(\"$\", cmd)\n",
    "    return subprocess.run(shlex.split(cmd), check=check)"
   ]
  },
  {
   "cell_type": "code",
   "execution_count": 3,
   "id": "49aed9f2-be76-4383-af48-dd5cee3e0b92",
   "metadata": {},
   "outputs": [
    {
     "name": "stdin",
     "output_type": "stream",
     "text": [
      "Enter Zenodo DOI (e.g., 10.5281/zenodo.16256961):  10.5281/zenodo.16256961\n"
     ]
    }
   ],
   "source": [
    "repo_root = find_repo_root()\n",
    "\n",
    "# Ask user\n",
    "doi = input(\"Enter Zenodo DOI (e.g., 10.5281/zenodo.16256961): \").strip()\n",
    "if not doi:\n",
    "    raise SystemExit(\"DOI is required.\")\n"
   ]
  },
  {
   "cell_type": "code",
   "execution_count": 4,
   "id": "5ea77996-55e3-49a7-a5dc-2ebece1aff3e",
   "metadata": {},
   "outputs": [
    {
     "name": "stdin",
     "output_type": "stream",
     "text": [
      "Destination directory at repo root [data/raw]:  \n"
     ]
    }
   ],
   "source": [
    "# Where to put downloaded files (in the repo)\n",
    "default_dest = \"data/raw\"\n",
    "dest_dir = input(f\"Destination directory at repo root [{default_dest}]: \").strip() or default_dest"
   ]
  },
  {
   "cell_type": "code",
   "execution_count": 6,
   "id": "3540e033-7c0c-4464-991e-21a6fa5fe71d",
   "metadata": {},
   "outputs": [
    {
     "name": "stdout",
     "output_type": "stream",
     "text": [
      "✅ Saved config: metadata/zenodo_download.json\n",
      "{\n",
      "  \"doi\": \"10.5281/zenodo.16256961\",\n",
      "  \"dest_dir\": \"data/raw\"\n",
      "}\n"
     ]
    }
   ],
   "source": [
    "# Save config JSON for the workflow to read\n",
    "metadata_dir = repo_root / \"metadata\"\n",
    "metadata_dir.mkdir(parents=True, exist_ok=True)\n",
    "cfg_path = metadata_dir / \"zenodo_download.json\"\n",
    "cfg_path.write_text(json.dumps({\"doi\": doi, \"dest_dir\": dest_dir}, indent=2), encoding=\"utf-8\")\n",
    "\n",
    "print(\"✅ Saved config:\", cfg_path.relative_to(repo_root))\n",
    "print(cfg_path.read_text())"
   ]
  },
  {
   "cell_type": "code",
   "execution_count": 10,
   "id": "7e1373ec-3397-4884-9b9b-4e7ebecb71e6",
   "metadata": {},
   "outputs": [
    {
     "name": "stdout",
     "output_type": "stream",
     "text": [
      "✅ Wrote workflow to: .github/workflows/zenodo-16256961-zenodo-download.yml\n",
      "Next: commit & push so GitHub Actions can detect it.\n"
     ]
    }
   ],
   "source": [
    "repo_root = find_repo_root()\n",
    "\n",
    "tpl_path = repo_root / \"helper\" / \"zenodo-download-template.yml\"   # your template location\n",
    "params_path = repo_root / \"metadata\" / \"zenodo_download.json\"      # DOI + dest_dir\n",
    "out_dir = repo_root / \".github\" / \"workflows\"\n",
    "out_dir.mkdir(parents=True, exist_ok=True)\n",
    "\n",
    "assert tpl_path.exists(), f\"Template not found: {tpl_path}\"\n",
    "assert params_path.exists(), f\"Params not found: {params_path} (run the DOI cell to create it)\"\n",
    "\n",
    "params = json.loads(params_path.read_text(encoding=\"utf-8\"))\n",
    "doi = params.get(\"doi\", \"\").strip()\n",
    "dest_dir = params.get(\"dest_dir\", \"metadata\").strip() or \"notebooks/zenodo_downloads\"\n",
    "assert doi, \"DOI missing in metadata/zenodo_download.json\"\n",
    "\n",
    "# Read template with placeholders __DOI__ and default dest_dir inside template (if any)\n",
    "tpl = tpl_path.read_text(encoding=\"utf-8\")\n",
    "\n",
    "filled = (tpl\n",
    "          .replace(\"__DOI__\", doi)\n",
    "          # Optional: if your template had a placeholder for dest_dir defaults, add it here:\n",
    "          .replace(\"notebooks/zenodo_downloads\", dest_dir)\n",
    "          )\n",
    "\n",
    "# Build filename from DOI slug\n",
    "# e.g., 10.5281/zenodo.1234567 -> slug \"zenodo-1234567\"\n",
    "def slug_from_doi(d):\n",
    "    # Keep 'zenodo.<id>' tail if present; otherwise slugify the whole doi\n",
    "    m = re.search(r'(zenodo\\.\\d+)$', d)\n",
    "    base = m.group(1) if m else d\n",
    "    return slugify(base)\n",
    "\n",
    "slug = slug_from_doi(doi)\n",
    "out_path = out_dir / f\"{slug}-zenodo-download.yml\"\n",
    "\n",
    "# Safety check\n",
    "if out_path.exists():\n",
    "    resp = input(f\"⚠️ {out_path.name} exists. Overwrite? [y/N]: \").strip().lower()\n",
    "    if resp not in (\"y\",\"yes\"):\n",
    "        print(\"❌ Aborted. Existing workflow left unchanged.\")\n",
    "        sys.exit(0)\n",
    "\n",
    "out_path.write_text(filled, encoding=\"utf-8\")\n",
    "print(f\"✅ Wrote workflow to: {out_path.relative_to(repo_root)}\")\n",
    "print(\"Next: commit & push so GitHub Actions can detect it.\")"
   ]
  },
  {
   "cell_type": "code",
   "execution_count": 11,
   "id": "d9517a0c-c30e-42ad-9327-04fbb790ef2e",
   "metadata": {},
   "outputs": [
    {
     "name": "stdout",
     "output_type": "stream",
     "text": [
      "$ git add .github/workflows\n"
     ]
    },
    {
     "name": "stderr",
     "output_type": "stream",
     "text": [
      "fatal: pathspec '.github/workflows' did not match any files\n"
     ]
    },
    {
     "ename": "CalledProcessError",
     "evalue": "Command '['git', 'add', '.github/workflows']' returned non-zero exit status 128.",
     "output_type": "error",
     "traceback": [
      "\u001b[31m---------------------------------------------------------------------------\u001b[39m",
      "\u001b[31mCalledProcessError\u001b[39m                        Traceback (most recent call last)",
      "\u001b[36mCell\u001b[39m\u001b[36m \u001b[39m\u001b[32mIn[11]\u001b[39m\u001b[32m, line 5\u001b[39m\n\u001b[32m      2\u001b[39m     \u001b[38;5;28mprint\u001b[39m(\u001b[33m\"\u001b[39m\u001b[33m$\u001b[39m\u001b[33m\"\u001b[39m, cmd)\n\u001b[32m      3\u001b[39m     subprocess.run(shlex.split(cmd), check=\u001b[38;5;28;01mTrue\u001b[39;00m)\n\u001b[32m----> \u001b[39m\u001b[32m5\u001b[39m \u001b[43mrun\u001b[49m\u001b[43m(\u001b[49m\u001b[33;43m\"\u001b[39;49m\u001b[33;43mgit add .github/workflows\u001b[39;49m\u001b[33;43m\"\u001b[39;49m\u001b[43m)\u001b[49m\n\u001b[32m      6\u001b[39m run(\u001b[33m'\u001b[39m\u001b[33mgit commit -m \u001b[39m\u001b[33m\"\u001b[39m\u001b[33mAdd Zenodo download workflow generated from template\u001b[39m\u001b[33m\"\u001b[39m\u001b[33m'\u001b[39m)\n\u001b[32m      7\u001b[39m run(\u001b[33m\"\u001b[39m\u001b[33mgit push origin main\u001b[39m\u001b[33m\"\u001b[39m)\n",
      "\u001b[36mCell\u001b[39m\u001b[36m \u001b[39m\u001b[32mIn[11]\u001b[39m\u001b[32m, line 3\u001b[39m, in \u001b[36mrun\u001b[39m\u001b[34m(cmd)\u001b[39m\n\u001b[32m      1\u001b[39m \u001b[38;5;28;01mdef\u001b[39;00m\u001b[38;5;250m \u001b[39m\u001b[34mrun\u001b[39m(cmd):\n\u001b[32m      2\u001b[39m     \u001b[38;5;28mprint\u001b[39m(\u001b[33m\"\u001b[39m\u001b[33m$\u001b[39m\u001b[33m\"\u001b[39m, cmd)\n\u001b[32m----> \u001b[39m\u001b[32m3\u001b[39m     \u001b[43msubprocess\u001b[49m\u001b[43m.\u001b[49m\u001b[43mrun\u001b[49m\u001b[43m(\u001b[49m\u001b[43mshlex\u001b[49m\u001b[43m.\u001b[49m\u001b[43msplit\u001b[49m\u001b[43m(\u001b[49m\u001b[43mcmd\u001b[49m\u001b[43m)\u001b[49m\u001b[43m,\u001b[49m\u001b[43m \u001b[49m\u001b[43mcheck\u001b[49m\u001b[43m=\u001b[49m\u001b[38;5;28;43;01mTrue\u001b[39;49;00m\u001b[43m)\u001b[49m\n",
      "\u001b[36mFile \u001b[39m\u001b[32m~/.conda/envs/greeninfo/lib/python3.11/subprocess.py:571\u001b[39m, in \u001b[36mrun\u001b[39m\u001b[34m(input, capture_output, timeout, check, *popenargs, **kwargs)\u001b[39m\n\u001b[32m    569\u001b[39m     retcode = process.poll()\n\u001b[32m    570\u001b[39m     \u001b[38;5;28;01mif\u001b[39;00m check \u001b[38;5;129;01mand\u001b[39;00m retcode:\n\u001b[32m--> \u001b[39m\u001b[32m571\u001b[39m         \u001b[38;5;28;01mraise\u001b[39;00m CalledProcessError(retcode, process.args,\n\u001b[32m    572\u001b[39m                                  output=stdout, stderr=stderr)\n\u001b[32m    573\u001b[39m \u001b[38;5;28;01mreturn\u001b[39;00m CompletedProcess(process.args, retcode, stdout, stderr)\n",
      "\u001b[31mCalledProcessError\u001b[39m: Command '['git', 'add', '.github/workflows']' returned non-zero exit status 128."
     ]
    }
   ],
   "source": [
    "def run(cmd):\n",
    "    print(\"$\", cmd)\n",
    "    subprocess.run(shlex.split(cmd), check=True)\n",
    "\n",
    "run(\"git add .github/workflows\")\n",
    "run('git commit -m \"Add Zenodo download workflow generated from template\"')\n",
    "run(\"git push origin main\")\n",
    "\n",
    "print(\"✅ Pushed. Go to GitHub → Actions and you should see “Zenodo Download”.\")\n",
    "print(\"You can trigger it via Actions → Run workflow, or by pushing a tag like: zenodo-dl-<something>.\")"
   ]
  },
  {
   "cell_type": "code",
   "execution_count": null,
   "id": "f1cf0d04-4050-41fc-9a3e-52662032f0e1",
   "metadata": {},
   "outputs": [],
   "source": [
    "keep = \"greeninformationfactory-biofairnet-pilot1-testrun-zenodo-upload.yml\"  # change to the one you want to keep\n",
    "wf_dir = Path(\".github/workflows\")\n",
    "assert wf_dir.exists(), \"No .github/workflows directory found.\"\n",
    "\n",
    "to_delete = [p for p in wf_dir.glob(\"*.yml\") if p.name != keep]\n",
    "if not to_delete:\n",
    "    print(\"Nothing to delete.\")\n",
    "else:\n",
    "    for p in to_delete:\n",
    "        print(\"Deleting\", p)\n",
    "        p.unlink()\n",
    "\n",
    "    subprocess.run(shlex.split(\"git add -A\"), check=True)\n",
    "    subprocess.run(shlex.split('git commit -m \"Clean workflows: keep only %s\"' % keep), check=True)\n",
    "    subprocess.run(shlex.split(\"git push origin main\"), check=True)\n",
    "    print(\"✅ Cleaned and pushed.\")"
   ]
  },
  {
   "cell_type": "code",
   "execution_count": 8,
   "id": "0530b35b-7931-440a-bda5-3190a17429c2",
   "metadata": {},
   "outputs": [
    {
     "name": "stdout",
     "output_type": "stream",
     "text": [
      "$ git add ../metadata/zenodo_download.json\n",
      "$ git commit -m \"Add zenodo_download.json (DOI + destination for Zenodo download workflow)\"\n",
      "On branch main\n",
      "Your branch is up to date with 'origin/main'.\n",
      "\n",
      "Changes not staged for commit:\n",
      "  (use \"git add <file>...\" to update what will be committed)\n",
      "  (use \"git restore <file>...\" to discard changes in working directory)\n",
      "\tmodified:   Download_and_Store.ipynb\n",
      "\n",
      "no changes added to commit (use \"git add\" and/or \"git commit -a\")\n",
      "$ git push origin main\n"
     ]
    },
    {
     "name": "stderr",
     "output_type": "stream",
     "text": [
      "Everything up-to-date\n"
     ]
    },
    {
     "data": {
      "text/plain": [
       "CompletedProcess(args=['git', 'push', 'origin', 'main'], returncode=0)"
      ]
     },
     "execution_count": 8,
     "metadata": {},
     "output_type": "execute_result"
    }
   ],
   "source": [
    "# Commit this config so the workflow can read it on the runner\n",
    "run(\"git add ../metadata/zenodo_download.json\")\n",
    "run('git commit -m \"Add zenodo_download.json (DOI + destination for Zenodo download workflow)\"', check=False)\n",
    "run(\"git push origin main\", check=False)"
   ]
  },
  {
   "cell_type": "code",
   "execution_count": 14,
   "id": "9ae48735-ca10-4d2f-b159-af93a9a22c43",
   "metadata": {},
   "outputs": [
    {
     "name": "stdout",
     "output_type": "stream",
     "text": [
      "$ git pull --rebase origin main\n",
      "$ git tag zenodo-dl-10-5281-zenodo-16256961-130232\n",
      "$ git push origin --tags\n"
     ]
    },
    {
     "name": "stderr",
     "output_type": "stream",
     "text": [
      "error: cannot pull with rebase: You have unstaged changes.\n",
      "error: please commit or stash them.\n"
     ]
    },
    {
     "name": "stdout",
     "output_type": "stream",
     "text": [
      "✅ Triggered workflow with tag: zenodo-dl-10-5281-zenodo-16256961-130232\n",
      "➡️  Go to GitHub → Actions → watch the 'Zenodo Download' run. Files will be committed to the repo in your chosen folder.\n"
     ]
    },
    {
     "name": "stderr",
     "output_type": "stream",
     "text": [
      "To github.com:Tobi-Wan-Kenob1/GreenInformationFactory_Prototype.git\n",
      " * [new tag]         zenodo-dl-10-5281-zenodo-16256961-130232 -> zenodo-dl-10-5281-zenodo-16256961-130232\n"
     ]
    }
   ],
   "source": [
    "# Pull latest (avoid fast-forward issues)\n",
    "run_cmd(\"git pull --rebase origin main\", check=False)\n",
    "\n",
    "tag = \"zenodo-dl-\" + slugify(doi)\n",
    "# If tag exists already, append a counter suffix\n",
    "existing = subprocess.run(shlex.split(\"git tag\"), capture_output=True, text=True).stdout.splitlines()\n",
    "if tag in existing:\n",
    "    from datetime import datetime\n",
    "    tag = f\"{tag}-{datetime.utcnow().strftime('%H%M%S')}\"\n",
    "\n",
    "run(f\"git tag {tag}\")\n",
    "run(\"git push origin --tags\")\n",
    "print(f\"✅ Triggered workflow with tag: {tag}\")\n",
    "print(\"➡️  Go to GitHub → Actions → watch the 'Zenodo Download' run. Files will be committed to the repo in your chosen folder.\")"
   ]
  },
  {
   "cell_type": "code",
   "execution_count": null,
   "id": "9c0dce14-3673-4c73-8d80-d47ffb4de401",
   "metadata": {},
   "outputs": [],
   "source": []
  }
 ],
 "metadata": {
  "kernelspec": {
   "display_name": ".conda-greeninfo",
   "language": "python",
   "name": "conda-env-.conda-greeninfo-py"
  },
  "language_info": {
   "codemirror_mode": {
    "name": "ipython",
    "version": 3
   },
   "file_extension": ".py",
   "mimetype": "text/x-python",
   "name": "python",
   "nbconvert_exporter": "python",
   "pygments_lexer": "ipython3",
   "version": "3.11.13"
  }
 },
 "nbformat": 4,
 "nbformat_minor": 5
}
