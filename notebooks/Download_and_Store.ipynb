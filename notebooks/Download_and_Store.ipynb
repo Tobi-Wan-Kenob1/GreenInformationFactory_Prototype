{
 "cells": [
  {
   "cell_type": "markdown",
   "id": "852f571d-7c7a-4f00-8c15-4e51fff92a4b",
   "metadata": {},
   "source": [
    "### Imports and Helpers"
   ]
  },
  {
   "cell_type": "code",
   "execution_count": 2,
   "id": "791aa0d3-eb97-4a71-8e28-a26b918d2f3a",
   "metadata": {},
   "outputs": [],
   "source": [
    "import json, shlex, subprocess, re\n",
    "from pathlib import Path\n",
    "\n",
    "def run(cmd, check=True):\n",
    "    \"\"\"Run a shell command with pretty print.\"\"\"\n",
    "    print(\"$\", cmd)\n",
    "    return subprocess.run(shlex.split(cmd), check=check)\n",
    "\n",
    "def find_repo_root(start: Path = None) -> Path:\n",
    "    p = start or Path.cwd()\n",
    "    for parent in [p, *p.resolve().parents]:\n",
    "        if (parent / \".git\").exists():\n",
    "            return parent\n",
    "    return Path.cwd()\n",
    "\n",
    "def slugify(s: str) -> str:\n",
    "    s = s.strip().lower()\n",
    "    s = re.sub(r\"[^a-z0-9]+\", \"-\", s)\n",
    "    s = re.sub(r\"-+\", \"-\", s).strip(\"-\")\n",
    "    return s[:60]"
   ]
  },
  {
   "cell_type": "code",
   "execution_count": 3,
   "id": "49aed9f2-be76-4383-af48-dd5cee3e0b92",
   "metadata": {},
   "outputs": [
    {
     "name": "stdin",
     "output_type": "stream",
     "text": [
      "Enter Zenodo DOI (e.g., 10.5281/zenodo.16256961):  10.5281/zenodo.16256961\n"
     ]
    }
   ],
   "source": [
    "repo_root = find_repo_root()\n",
    "\n",
    "# Ask user\n",
    "doi = input(\"Enter Zenodo DOI (e.g., 10.5281/zenodo.16256961): \").strip()\n",
    "if not doi:\n",
    "    raise SystemExit(\"DOI is required.\")\n"
   ]
  },
  {
   "cell_type": "code",
   "execution_count": 4,
   "id": "5ea77996-55e3-49a7-a5dc-2ebece1aff3e",
   "metadata": {},
   "outputs": [
    {
     "name": "stdin",
     "output_type": "stream",
     "text": [
      "Destination directory at repo root [data/raw]:  \n"
     ]
    }
   ],
   "source": [
    "# Where to put downloaded files (in the repo)\n",
    "default_dest = \"data/raw\"\n",
    "dest_dir = input(f\"Destination directory at repo root [{default_dest}]: \").strip() or default_dest"
   ]
  },
  {
   "cell_type": "code",
   "execution_count": 6,
   "id": "3540e033-7c0c-4464-991e-21a6fa5fe71d",
   "metadata": {},
   "outputs": [
    {
     "name": "stdout",
     "output_type": "stream",
     "text": [
      "✅ Saved config: metadata/zenodo_download.json\n",
      "{\n",
      "  \"doi\": \"10.5281/zenodo.16256961\",\n",
      "  \"dest_dir\": \"data/raw\"\n",
      "}\n"
     ]
    }
   ],
   "source": [
    "# Save config JSON for the workflow to read\n",
    "metadata_dir = repo_root / \"metadata\"\n",
    "metadata_dir.mkdir(parents=True, exist_ok=True)\n",
    "cfg_path = metadata_dir / \"zenodo_download.json\"\n",
    "cfg_path.write_text(json.dumps({\"doi\": doi, \"dest_dir\": dest_dir}, indent=2), encoding=\"utf-8\")\n",
    "\n",
    "print(\"✅ Saved config:\", cfg_path.relative_to(repo_root))\n",
    "print(cfg_path.read_text())"
   ]
  },
  {
   "cell_type": "code",
   "execution_count": null,
   "id": "0530b35b-7931-440a-bda5-3190a17429c2",
   "metadata": {},
   "outputs": [],
   "source": [
    "# Commit this config so the workflow can read it on the runner\n",
    "run(\"git add metadata/zenodo_download.json\")\n",
    "run('git commit -m \"Add zenodo_download.json (DOI + destination for Zenodo download workflow)\"', check=False)\n",
    "run(\"git push origin main\", check=False)"
   ]
  },
  {
   "cell_type": "code",
   "execution_count": null,
   "id": "9ae48735-ca10-4d2f-b159-af93a9a22c43",
   "metadata": {},
   "outputs": [],
   "source": [
    "# Pull latest (avoid fast-forward issues)\n",
    "run(\"git pull --rebase origin main\", check=False)\n",
    "\n",
    "tag = \"zenodo-dl-\" + slugify(doi)\n",
    "# If tag exists already, append a counter suffix\n",
    "existing = subprocess.run(shlex.split(\"git tag\"), capture_output=True, text=True).stdout.splitlines()\n",
    "if tag in existing:\n",
    "    from datetime import datetime\n",
    "    tag = f\"{tag}-{datetime.utcnow().strftime('%H%M%S')}\"\n",
    "\n",
    "run(f\"git tag {tag}\")\n",
    "run(\"git push origin --tags\")\n",
    "print(f\"✅ Triggered workflow with tag: {tag}\")\n",
    "print(\"➡️  Go to GitHub → Actions → watch the 'Zenodo Download' run. Files will be committed to the repo in your chosen folder.\")"
   ]
  },
  {
   "cell_type": "code",
   "execution_count": null,
   "id": "9c0dce14-3673-4c73-8d80-d47ffb4de401",
   "metadata": {},
   "outputs": [],
   "source": []
  }
 ],
 "metadata": {
  "kernelspec": {
   "display_name": ".conda-greeninfo",
   "language": "python",
   "name": "conda-env-.conda-greeninfo-py"
  },
  "language_info": {
   "codemirror_mode": {
    "name": "ipython",
    "version": 3
   },
   "file_extension": ".py",
   "mimetype": "text/x-python",
   "name": "python",
   "nbconvert_exporter": "python",
   "pygments_lexer": "ipython3",
   "version": "3.11.13"
  }
 },
 "nbformat": 4,
 "nbformat_minor": 5
}
