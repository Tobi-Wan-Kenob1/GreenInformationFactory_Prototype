{
 "cells": [
  {
   "cell_type": "markdown",
   "id": "4c366b3b-8fc8-498f-8df5-3534c41c032c",
   "metadata": {},
   "source": [
    "--> Make File wo die Daten herkommen"
   ]
  },
  {
   "cell_type": "code",
   "execution_count": 2,
   "id": "5977c9d5-0f5b-4497-b971-938d5f83289f",
   "metadata": {},
   "outputs": [],
   "source": [
    "# Purpose: Split the BioFairNet pilot dataset into train/test sets and save inputs/targets\n",
    "\n",
    "import os\n",
    "import pandas as pd\n",
    "from sklearn.model_selection import train_test_split"
   ]
  },
  {
   "cell_type": "code",
   "execution_count": 5,
   "id": "c7a8965b-1ee7-4d48-afcd-e5b68de21458",
   "metadata": {},
   "outputs": [],
   "source": [
    "raw_path = \"../data/raw/BioFairNet_Pilot1_Testrun.csv\"\n",
    "df = pd.read_csv(raw_path, sep=';')"
   ]
  },
  {
   "cell_type": "code",
   "execution_count": 70,
   "id": "3d11bac6-52b6-4a98-a1fe-4517d7c038bf",
   "metadata": {},
   "outputs": [
    {
     "data": {
      "text/html": [
       "<div>\n",
       "<style scoped>\n",
       "    .dataframe tbody tr th:only-of-type {\n",
       "        vertical-align: middle;\n",
       "    }\n",
       "\n",
       "    .dataframe tbody tr th {\n",
       "        vertical-align: top;\n",
       "    }\n",
       "\n",
       "    .dataframe thead th {\n",
       "        text-align: right;\n",
       "    }\n",
       "</style>\n",
       "<table border=\"1\" class=\"dataframe\">\n",
       "  <thead>\n",
       "    <tr style=\"text-align: right;\">\n",
       "      <th></th>\n",
       "      <th>Time (min)</th>\n",
       "      <th>Temperature (°C)</th>\n",
       "      <th>Stiring</th>\n",
       "      <th>Pressure (bar)</th>\n",
       "    </tr>\n",
       "  </thead>\n",
       "  <tbody>\n",
       "    <tr>\n",
       "      <th>9665</th>\n",
       "      <td>NaN</td>\n",
       "      <td>NaN</td>\n",
       "      <td>0,1</td>\n",
       "      <td>NaN</td>\n",
       "    </tr>\n",
       "    <tr>\n",
       "      <th>9666</th>\n",
       "      <td>NaN</td>\n",
       "      <td>NaN</td>\n",
       "      <td>0,1</td>\n",
       "      <td>NaN</td>\n",
       "    </tr>\n",
       "    <tr>\n",
       "      <th>9667</th>\n",
       "      <td>NaN</td>\n",
       "      <td>NaN</td>\n",
       "      <td>0,1</td>\n",
       "      <td>NaN</td>\n",
       "    </tr>\n",
       "    <tr>\n",
       "      <th>9668</th>\n",
       "      <td>NaN</td>\n",
       "      <td>NaN</td>\n",
       "      <td>0,1</td>\n",
       "      <td>NaN</td>\n",
       "    </tr>\n",
       "    <tr>\n",
       "      <th>9669</th>\n",
       "      <td>NaN</td>\n",
       "      <td>NaN</td>\n",
       "      <td>0,1</td>\n",
       "      <td>NaN</td>\n",
       "    </tr>\n",
       "  </tbody>\n",
       "</table>\n",
       "</div>"
      ],
      "text/plain": [
       "     Time (min) Temperature (°C) Stiring Pressure (bar)\n",
       "9665        NaN              NaN     0,1            NaN\n",
       "9666        NaN              NaN     0,1            NaN\n",
       "9667        NaN              NaN     0,1            NaN\n",
       "9668        NaN              NaN     0,1            NaN\n",
       "9669        NaN              NaN     0,1            NaN"
      ]
     },
     "execution_count": 70,
     "metadata": {},
     "output_type": "execute_result"
    }
   ],
   "source": [
    "df.tail()"
   ]
  },
  {
   "cell_type": "code",
   "execution_count": 71,
   "id": "c00233f2-d5f4-4d44-9cab-0fb52ae64426",
   "metadata": {},
   "outputs": [],
   "source": [
    "nan_index = df.isnull().any(axis=1).idxmax() if df.isnull().any().any() else len(df)\n",
    "\n",
    "df_small = df.iloc[:nan_index]"
   ]
  },
  {
   "cell_type": "code",
   "execution_count": 72,
   "id": "139851a5-9ff1-4785-8a24-14bbbec279ec",
   "metadata": {},
   "outputs": [
    {
     "data": {
      "text/html": [
       "<div>\n",
       "<style scoped>\n",
       "    .dataframe tbody tr th:only-of-type {\n",
       "        vertical-align: middle;\n",
       "    }\n",
       "\n",
       "    .dataframe tbody tr th {\n",
       "        vertical-align: top;\n",
       "    }\n",
       "\n",
       "    .dataframe thead th {\n",
       "        text-align: right;\n",
       "    }\n",
       "</style>\n",
       "<table border=\"1\" class=\"dataframe\">\n",
       "  <thead>\n",
       "    <tr style=\"text-align: right;\">\n",
       "      <th></th>\n",
       "      <th>Time (min)</th>\n",
       "      <th>Temperature (°C)</th>\n",
       "      <th>Stiring</th>\n",
       "      <th>Pressure (bar)</th>\n",
       "    </tr>\n",
       "  </thead>\n",
       "  <tbody>\n",
       "    <tr>\n",
       "      <th>9220</th>\n",
       "      <td>16:45:58</td>\n",
       "      <td>250</td>\n",
       "      <td>0,1</td>\n",
       "      <td>40,1</td>\n",
       "    </tr>\n",
       "    <tr>\n",
       "      <th>9221</th>\n",
       "      <td>16:45:59</td>\n",
       "      <td>250</td>\n",
       "      <td>0,1</td>\n",
       "      <td>40,1</td>\n",
       "    </tr>\n",
       "    <tr>\n",
       "      <th>9222</th>\n",
       "      <td>16:46</td>\n",
       "      <td>250</td>\n",
       "      <td>0,1</td>\n",
       "      <td>40,1</td>\n",
       "    </tr>\n",
       "    <tr>\n",
       "      <th>9223</th>\n",
       "      <td>16:46</td>\n",
       "      <td>250</td>\n",
       "      <td>0,1</td>\n",
       "      <td>40,1</td>\n",
       "    </tr>\n",
       "    <tr>\n",
       "      <th>9224</th>\n",
       "      <td>16:46</td>\n",
       "      <td>250</td>\n",
       "      <td>0,1</td>\n",
       "      <td>40,1</td>\n",
       "    </tr>\n",
       "  </tbody>\n",
       "</table>\n",
       "</div>"
      ],
      "text/plain": [
       "     Time (min) Temperature (°C) Stiring Pressure (bar)\n",
       "9220   16:45:58              250     0,1           40,1\n",
       "9221   16:45:59              250     0,1           40,1\n",
       "9222      16:46              250     0,1           40,1\n",
       "9223      16:46              250     0,1           40,1\n",
       "9224      16:46              250     0,1           40,1"
      ]
     },
     "execution_count": 72,
     "metadata": {},
     "output_type": "execute_result"
    }
   ],
   "source": [
    "df_small.tail()"
   ]
  },
  {
   "cell_type": "code",
   "execution_count": 66,
   "id": "d518c3ac-8afd-4fed-be7e-ba0ec4954adc",
   "metadata": {},
   "outputs": [],
   "source": [
    "import math\n",
    "def comma_to_dot_round_half_up(val):\n",
    "    if isinstance(val, str) and ',' in val:\n",
    "        try:\n",
    "            # Replace comma with dot and convert to float\n",
    "            num = float(val.replace(\",\", \".\"))\n",
    "            # Round up to the nearest 0.5\n",
    "            return math.ceil(num * 2) / 2\n",
    "        except ValueError:\n",
    "            return val  # leave non-numeric strings untouched\n",
    "    return val  # leave already-clean values untouched"
   ]
  },
  {
   "cell_type": "code",
   "execution_count": 78,
   "id": "4361c85c-4a40-4db9-baf1-04fe7b39ff9d",
   "metadata": {
    "scrolled": true
   },
   "outputs": [
    {
     "name": "stderr",
     "output_type": "stream",
     "text": [
      "/tmp/ipykernel_1232/4052622316.py:1: SettingWithCopyWarning: \n",
      "A value is trying to be set on a copy of a slice from a DataFrame.\n",
      "Try using .loc[row_indexer,col_indexer] = value instead\n",
      "\n",
      "See the caveats in the documentation: https://pandas.pydata.org/pandas-docs/stable/user_guide/indexing.html#returning-a-view-versus-a-copy\n",
      "  df_small['Time (min)'] = [i*15 for i in range(len(df_small))]\n"
     ]
    }
   ],
   "source": [
    "df_small['Time (min)'] = [i*15 for i in range(len(df_small))]"
   ]
  },
  {
   "cell_type": "code",
   "execution_count": 79,
   "id": "8eea3b28-e15b-4c39-9a42-f82635b663ed",
   "metadata": {},
   "outputs": [],
   "source": [
    "df_small = df_small.map(lambda x: float(str(x).replace(\",\", \".\")) if isinstance(x, str) and \",\" in x else x)"
   ]
  },
  {
   "cell_type": "code",
   "execution_count": 168,
   "id": "1bdb9bbb-0d65-4a8e-bd4c-d98bb3fc921c",
   "metadata": {},
   "outputs": [
    {
     "data": {
      "text/plain": [
       "<matplotlib.collections.PathCollection at 0x74d4f2757690>"
      ]
     },
     "execution_count": 168,
     "metadata": {},
     "output_type": "execute_result"
    },
    {
     "data": {
      "image/png": "[encoded data removed]",
      "text/plain": [
       "<Figure size 640x480 with 1 Axes>"
      ]
     },
     "metadata": {},
     "output_type": "display_data"
    }
   ],
   "source": [
    "#plt.scatter(df_small['Time (min)'],df_small['Pressure (bar)'])\n",
    "plt.scatter(df_small['Time (min)'],df_small['Stiring'])"
   ]
  },
  {
   "cell_type": "code",
   "execution_count": 80,
   "id": "392b01d0-cdd6-4203-a043-020054edbe70",
   "metadata": {},
   "outputs": [],
   "source": [
    "X = df_small[[\"Time (min)\", \"Temperature (°C)\", \"Stiring\"]]\n",
    "y = df_small[[\"Pressure (bar)\"]]"
   ]
  },
  {
   "cell_type": "code",
   "execution_count": null,
   "id": "2eafc696-a225-492c-8a15-6089b8c4905e",
   "metadata": {},
   "outputs": [],
   "source": []
  },
  {
   "cell_type": "code",
   "execution_count": 81,
   "id": "315a80e7-0a1e-414a-8068-c271e16c6dd0",
   "metadata": {},
   "outputs": [
    {
     "data": {
      "text/html": [
       "<div>\n",
       "<style scoped>\n",
       "    .dataframe tbody tr th:only-of-type {\n",
       "        vertical-align: middle;\n",
       "    }\n",
       "\n",
       "    .dataframe tbody tr th {\n",
       "        vertical-align: top;\n",
       "    }\n",
       "\n",
       "    .dataframe thead th {\n",
       "        text-align: right;\n",
       "    }\n",
       "</style>\n",
       "<table border=\"1\" class=\"dataframe\">\n",
       "  <thead>\n",
       "    <tr style=\"text-align: right;\">\n",
       "      <th></th>\n",
       "      <th>Time (min)</th>\n",
       "      <th>Temperature (°C)</th>\n",
       "      <th>Stiring</th>\n",
       "    </tr>\n",
       "  </thead>\n",
       "  <tbody>\n",
       "    <tr>\n",
       "      <th>9223</th>\n",
       "      <td>138345</td>\n",
       "      <td>250</td>\n",
       "      <td>0.1</td>\n",
       "    </tr>\n",
       "    <tr>\n",
       "      <th>9224</th>\n",
       "      <td>138360</td>\n",
       "      <td>250</td>\n",
       "      <td>0.1</td>\n",
       "    </tr>\n",
       "  </tbody>\n",
       "</table>\n",
       "</div>"
      ],
      "text/plain": [
       "      Time (min) Temperature (°C)  Stiring\n",
       "9223      138345              250      0.1\n",
       "9224      138360              250      0.1"
      ]
     },
     "execution_count": 81,
     "metadata": {},
     "output_type": "execute_result"
    }
   ],
   "source": [
    "X.tail(2)"
   ]
  },
  {
   "cell_type": "code",
   "execution_count": 82,
   "id": "5db7ca05-bdc4-45f2-8492-283c9d5b6779",
   "metadata": {},
   "outputs": [
    {
     "data": {
      "text/html": [
       "<div>\n",
       "<style scoped>\n",
       "    .dataframe tbody tr th:only-of-type {\n",
       "        vertical-align: middle;\n",
       "    }\n",
       "\n",
       "    .dataframe tbody tr th {\n",
       "        vertical-align: top;\n",
       "    }\n",
       "\n",
       "    .dataframe thead th {\n",
       "        text-align: right;\n",
       "    }\n",
       "</style>\n",
       "<table border=\"1\" class=\"dataframe\">\n",
       "  <thead>\n",
       "    <tr style=\"text-align: right;\">\n",
       "      <th></th>\n",
       "      <th>Time (min)</th>\n",
       "      <th>Temperature (°C)</th>\n",
       "      <th>Stiring</th>\n",
       "    </tr>\n",
       "  </thead>\n",
       "  <tbody>\n",
       "    <tr>\n",
       "      <th>0</th>\n",
       "      <td>0</td>\n",
       "      <td>114.8</td>\n",
       "      <td>0.1</td>\n",
       "    </tr>\n",
       "    <tr>\n",
       "      <th>1</th>\n",
       "      <td>15</td>\n",
       "      <td>114.9</td>\n",
       "      <td>0.1</td>\n",
       "    </tr>\n",
       "    <tr>\n",
       "      <th>2</th>\n",
       "      <td>30</td>\n",
       "      <td>114.9</td>\n",
       "      <td>0.1</td>\n",
       "    </tr>\n",
       "    <tr>\n",
       "      <th>3</th>\n",
       "      <td>45</td>\n",
       "      <td>114.9</td>\n",
       "      <td>0.1</td>\n",
       "    </tr>\n",
       "    <tr>\n",
       "      <th>4</th>\n",
       "      <td>60</td>\n",
       "      <td>114.9</td>\n",
       "      <td>0.1</td>\n",
       "    </tr>\n",
       "  </tbody>\n",
       "</table>\n",
       "</div>"
      ],
      "text/plain": [
       "   Time (min) Temperature (°C)  Stiring\n",
       "0           0            114.8      0.1\n",
       "1          15            114.9      0.1\n",
       "2          30            114.9      0.1\n",
       "3          45            114.9      0.1\n",
       "4          60            114.9      0.1"
      ]
     },
     "execution_count": 82,
     "metadata": {},
     "output_type": "execute_result"
    }
   ],
   "source": [
    "X.head()"
   ]
  },
  {
   "cell_type": "code",
   "execution_count": 83,
   "id": "3ba4bdd2-a3d9-4427-a6d2-e2a5a4de693d",
   "metadata": {},
   "outputs": [],
   "source": [
    "X_train, X_test, y_train, y_test = train_test_split(X, y, test_size=0.2, random_state=42)\n"
   ]
  },
  {
   "cell_type": "code",
   "execution_count": 84,
   "id": "134ac70f-659c-49c6-bf67-f81e4ca0b6b2",
   "metadata": {},
   "outputs": [
    {
     "name": "stdout",
     "output_type": "stream",
     "text": [
      "✅ Done: Train/Test split and files saved.\n"
     ]
    }
   ],
   "source": [
    "train_dir = \"../data/processed/Train\"\n",
    "test_dir = \"../data/processed/Test\"\n",
    "os.makedirs(train_dir, exist_ok=True)\n",
    "os.makedirs(test_dir, exist_ok=True)\n",
    "\n",
    "X_train.to_csv(os.path.join(train_dir, \"BioFairNet_Pilot1_Testrun_Train_in.csv\"), index=False)\n",
    "y_train.to_csv(os.path.join(train_dir, \"BioFairNet_Pilot1_Testrun_Train_out.csv\"), index=False)\n",
    "X_test.to_csv(os.path.join(test_dir, \"BioFairNet_Pilot1_Testrun_Test_in.csv\"), index=False)\n",
    "y_test.to_csv(os.path.join(test_dir, \"BioFairNet_Pilot1_Testrun_Test_out.csv\"), index=False)\n",
    "\n",
    "print(\"✅ Done: Train/Test split and files saved.\")"
   ]
  },
  {
   "cell_type": "code",
   "execution_count": null,
   "id": "b0612433-6f5b-4b4b-b1dc-0e93e4b6329c",
   "metadata": {},
   "outputs": [],
   "source": []
  }
 ],
 "metadata": {
  "kernelspec": {
   "display_name": ".conda-greeninfo",
   "language": "python",
   "name": "conda-env-.conda-greeninfo-py"
  },
  "language_info": {
   "codemirror_mode": {
    "name": "ipython",
    "version": 3
   },
   "file_extension": ".py",
   "mimetype": "text/x-python",
   "name": "python",
   "nbconvert_exporter": "python",
   "pygments_lexer": "ipython3",
   "version": "3.11.13"
  }
 },
 "nbformat": 4,
 "nbformat_minor": 5
}
